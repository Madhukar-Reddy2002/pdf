{
 "cells": [
  {
   "cell_type": "code",
   "execution_count": 1,
   "metadata": {},
   "outputs": [],
   "source": [
    "import PyPDF2\n",
    "import re\n",
    "\n",
    "pdf_path = './PhonePe_Statement_Apr2023_Apr2024.pdf'\n",
    "\n",
    "def extract_text_from_pdf(pdf_path):\n",
    "    with open(pdf_path, 'rb') as pdf_file:\n",
    "        pdf_reader = PyPDF2.PdfReader(pdf_file)\n",
    "        num_pages = len(pdf_reader.pages)\n",
    "        \n",
    "        all_page_text = []\n",
    "        for page_num in range(num_pages):\n",
    "            # Get the page\n",
    "            page = pdf_reader.pages[page_num]\n",
    "            \n",
    "            # Extract text from the page\n",
    "            page_text = page.extract_text()\n",
    "            clean_text = re.sub(r'[^\\x00-\\x7F]+', '', page_text)\n",
    "            \n",
    "            # Append the text to the list\n",
    "            all_page_text.append(clean_text)\n",
    "            \n",
    "        return all_page_text\n",
    "\n",
    "all_text = extract_text_from_pdf(pdf_path)"
   ]
  },
  {
   "cell_type": "code",
   "execution_count": 2,
   "metadata": {},
   "outputs": [
    {
     "name": "stdout",
     "output_type": "stream",
     "text": [
      "151\n"
     ]
    }
   ],
   "source": [
    "pages = []\n",
    "for i in all_text:\n",
    "    li = i.split('\\n')\n",
    "    li2 = li[1::2]\n",
    "    pages.append(li2)\n",
    "\n",
    "print(len(pages))"
   ]
  },
  {
   "cell_type": "code",
   "execution_count": 5,
   "metadata": {},
   "outputs": [],
   "source": [
    "import re\n",
    "from datetime import datetime\n",
    "\n",
    "transactions_text = []\n",
    "\n",
    "# Regular expression pattern to match from month name up to \"Transaction ID\"\n",
    "pattern = r\"(\\b(?:Jan|Feb|Mar|Apr|May|Jun|Jul|Aug|Sep|Oct|Nov|Dec)\\b.*?)(?=Transaction\\sID)\"\n",
    "\n",
    "# Iterate over each page in the list of pages\n",
    "for page in pages:\n",
    "    # Join the lines of the current page into a single string\n",
    "    page_text = \" \".join(page)\n",
    "    \n",
    "    # Find all matches for the pattern in the current page\n",
    "    matches = re.findall(pattern, page_text)\n",
    "    transactions_text.append(matches)\n",
    "\n",
    "text = transactions_text[0][0]\n",
    "text =text.split(\" \")\n",
    "start = text.index(\"Amount\")\n",
    "text = \" \".join(text[start+1:])\n",
    "transactions_text[0][0] = text\n",
    "\n",
    "transactions_nice = []\n",
    "\n",
    "# Iterate over each transaction text in the transactions_text list\n",
    "for transaction_page in transactions_text:\n",
    "    for transaction in transaction_page:\n",
    "        # Split the transaction string by spaces and strip each substring\n",
    "        stripped_transaction = transaction.split(\" \")\n",
    "        cleared_transaction = [substr.strip() for substr in stripped_transaction if substr.strip()]\n",
    "        \n",
    "        # Process each cleared transaction\n",
    "        month = cleared_transaction[0]\n",
    "        date = cleared_transaction[1].rstrip(',')\n",
    "        year = cleared_transaction[2]\n",
    "        time = cleared_transaction[3] + \" \" + cleared_transaction[4]\n",
    "        transaction_date = datetime.strptime(f\"{month} {date} {year} {time}\", \"%b %d %Y %I:%M %p\")\n",
    "\n",
    "        data = {\n",
    "            \"date\": transaction_date,\n",
    "            \"type\": cleared_transaction[5],\n",
    "            \"amount\": cleared_transaction[6],\n",
    "            \"payee\": \" \".join(cleared_transaction[9:])\n",
    "        }\n",
    "        transactions_nice.append(data)"
   ]
  },
  {
   "cell_type": "code",
   "execution_count": 8,
   "metadata": {},
   "outputs": [],
   "source": [
    "import pandas as pd\n",
    "\n",
    "# Your code to process transactions_text and generate transactions_nice goes here...\n",
    "\n",
    "# Convert transactions_nice to a pandas DataFrame\n",
    "df = pd.DataFrame(transactions_nice)\n",
    "df['amount'] = df['amount'].str.replace(',', '').astype(float)"
   ]
  },
  {
   "cell_type": "code",
   "execution_count": 9,
   "metadata": {},
   "outputs": [],
   "source": [
    "df.to_csv(\"transactions2.csv\"  , index=False)"
   ]
  },
  {
   "cell_type": "code",
   "execution_count": null,
   "metadata": {},
   "outputs": [],
   "source": []
  }
 ],
 "metadata": {
  "kernelspec": {
   "display_name": "Python 3",
   "language": "python",
   "name": "python3"
  },
  "language_info": {
   "codemirror_mode": {
    "name": "ipython",
    "version": 3
   },
   "file_extension": ".py",
   "mimetype": "text/x-python",
   "name": "python",
   "nbconvert_exporter": "python",
   "pygments_lexer": "ipython3",
   "version": "3.12.2"
  }
 },
 "nbformat": 4,
 "nbformat_minor": 2
}
